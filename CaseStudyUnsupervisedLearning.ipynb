{
 "cells": [
  {
   "cell_type": "code",
   "execution_count": 1,
   "id": "9296c30f",
   "metadata": {},
   "outputs": [],
   "source": [
    "import pandas as pd\n",
    "import numpy as np\n",
    "import matplotlib.pyplot as plt"
   ]
  },
  {
   "cell_type": "code",
   "execution_count": 2,
   "id": "3a8ec514",
   "metadata": {},
   "outputs": [],
   "source": [
    "df=pd.read_csv(\"Wine.csv\")"
   ]
  },
  {
   "cell_type": "code",
   "execution_count": 3,
   "id": "442419e8",
   "metadata": {},
   "outputs": [
    {
     "data": {
      "text/html": [
       "<div>\n",
       "<style scoped>\n",
       "    .dataframe tbody tr th:only-of-type {\n",
       "        vertical-align: middle;\n",
       "    }\n",
       "\n",
       "    .dataframe tbody tr th {\n",
       "        vertical-align: top;\n",
       "    }\n",
       "\n",
       "    .dataframe thead th {\n",
       "        text-align: right;\n",
       "    }\n",
       "</style>\n",
       "<table border=\"1\" class=\"dataframe\">\n",
       "  <thead>\n",
       "    <tr style=\"text-align: right;\">\n",
       "      <th></th>\n",
       "      <th>Alcohol</th>\n",
       "      <th>Malic_Acid</th>\n",
       "      <th>Ash</th>\n",
       "      <th>Ash_Alcanity</th>\n",
       "      <th>Magnesium</th>\n",
       "      <th>Total_Phenols</th>\n",
       "      <th>Flavanoids</th>\n",
       "      <th>Nonflavanoid_Phenols</th>\n",
       "      <th>Proanthocyanins</th>\n",
       "      <th>Color_Intensity</th>\n",
       "      <th>Hue</th>\n",
       "      <th>OD280</th>\n",
       "      <th>Proline</th>\n",
       "    </tr>\n",
       "  </thead>\n",
       "  <tbody>\n",
       "    <tr>\n",
       "      <th>0</th>\n",
       "      <td>14.23</td>\n",
       "      <td>1.71</td>\n",
       "      <td>2.43</td>\n",
       "      <td>15.6</td>\n",
       "      <td>127</td>\n",
       "      <td>2.80</td>\n",
       "      <td>3.06</td>\n",
       "      <td>0.28</td>\n",
       "      <td>2.29</td>\n",
       "      <td>5.64</td>\n",
       "      <td>1.04</td>\n",
       "      <td>3.92</td>\n",
       "      <td>1065</td>\n",
       "    </tr>\n",
       "    <tr>\n",
       "      <th>1</th>\n",
       "      <td>13.20</td>\n",
       "      <td>1.78</td>\n",
       "      <td>2.14</td>\n",
       "      <td>11.2</td>\n",
       "      <td>100</td>\n",
       "      <td>2.65</td>\n",
       "      <td>2.76</td>\n",
       "      <td>0.26</td>\n",
       "      <td>1.28</td>\n",
       "      <td>4.38</td>\n",
       "      <td>1.05</td>\n",
       "      <td>3.40</td>\n",
       "      <td>1050</td>\n",
       "    </tr>\n",
       "    <tr>\n",
       "      <th>2</th>\n",
       "      <td>13.16</td>\n",
       "      <td>2.36</td>\n",
       "      <td>2.67</td>\n",
       "      <td>18.6</td>\n",
       "      <td>101</td>\n",
       "      <td>2.80</td>\n",
       "      <td>3.24</td>\n",
       "      <td>0.30</td>\n",
       "      <td>2.81</td>\n",
       "      <td>5.68</td>\n",
       "      <td>1.03</td>\n",
       "      <td>3.17</td>\n",
       "      <td>1185</td>\n",
       "    </tr>\n",
       "    <tr>\n",
       "      <th>3</th>\n",
       "      <td>14.37</td>\n",
       "      <td>1.95</td>\n",
       "      <td>2.50</td>\n",
       "      <td>16.8</td>\n",
       "      <td>113</td>\n",
       "      <td>3.85</td>\n",
       "      <td>3.49</td>\n",
       "      <td>0.24</td>\n",
       "      <td>2.18</td>\n",
       "      <td>7.80</td>\n",
       "      <td>0.86</td>\n",
       "      <td>3.45</td>\n",
       "      <td>1480</td>\n",
       "    </tr>\n",
       "    <tr>\n",
       "      <th>4</th>\n",
       "      <td>13.24</td>\n",
       "      <td>2.59</td>\n",
       "      <td>2.87</td>\n",
       "      <td>21.0</td>\n",
       "      <td>118</td>\n",
       "      <td>2.80</td>\n",
       "      <td>2.69</td>\n",
       "      <td>0.39</td>\n",
       "      <td>1.82</td>\n",
       "      <td>4.32</td>\n",
       "      <td>1.04</td>\n",
       "      <td>2.93</td>\n",
       "      <td>735</td>\n",
       "    </tr>\n",
       "    <tr>\n",
       "      <th>...</th>\n",
       "      <td>...</td>\n",
       "      <td>...</td>\n",
       "      <td>...</td>\n",
       "      <td>...</td>\n",
       "      <td>...</td>\n",
       "      <td>...</td>\n",
       "      <td>...</td>\n",
       "      <td>...</td>\n",
       "      <td>...</td>\n",
       "      <td>...</td>\n",
       "      <td>...</td>\n",
       "      <td>...</td>\n",
       "      <td>...</td>\n",
       "    </tr>\n",
       "    <tr>\n",
       "      <th>173</th>\n",
       "      <td>13.71</td>\n",
       "      <td>5.65</td>\n",
       "      <td>2.45</td>\n",
       "      <td>20.5</td>\n",
       "      <td>95</td>\n",
       "      <td>1.68</td>\n",
       "      <td>0.61</td>\n",
       "      <td>0.52</td>\n",
       "      <td>1.06</td>\n",
       "      <td>7.70</td>\n",
       "      <td>0.64</td>\n",
       "      <td>1.74</td>\n",
       "      <td>740</td>\n",
       "    </tr>\n",
       "    <tr>\n",
       "      <th>174</th>\n",
       "      <td>13.40</td>\n",
       "      <td>3.91</td>\n",
       "      <td>2.48</td>\n",
       "      <td>23.0</td>\n",
       "      <td>102</td>\n",
       "      <td>1.80</td>\n",
       "      <td>0.75</td>\n",
       "      <td>0.43</td>\n",
       "      <td>1.41</td>\n",
       "      <td>7.30</td>\n",
       "      <td>0.70</td>\n",
       "      <td>1.56</td>\n",
       "      <td>750</td>\n",
       "    </tr>\n",
       "    <tr>\n",
       "      <th>175</th>\n",
       "      <td>13.27</td>\n",
       "      <td>4.28</td>\n",
       "      <td>2.26</td>\n",
       "      <td>20.0</td>\n",
       "      <td>120</td>\n",
       "      <td>1.59</td>\n",
       "      <td>0.69</td>\n",
       "      <td>0.43</td>\n",
       "      <td>1.35</td>\n",
       "      <td>10.20</td>\n",
       "      <td>0.59</td>\n",
       "      <td>1.56</td>\n",
       "      <td>835</td>\n",
       "    </tr>\n",
       "    <tr>\n",
       "      <th>176</th>\n",
       "      <td>13.17</td>\n",
       "      <td>2.59</td>\n",
       "      <td>2.37</td>\n",
       "      <td>20.0</td>\n",
       "      <td>120</td>\n",
       "      <td>1.65</td>\n",
       "      <td>0.68</td>\n",
       "      <td>0.53</td>\n",
       "      <td>1.46</td>\n",
       "      <td>9.30</td>\n",
       "      <td>0.60</td>\n",
       "      <td>1.62</td>\n",
       "      <td>840</td>\n",
       "    </tr>\n",
       "    <tr>\n",
       "      <th>177</th>\n",
       "      <td>14.13</td>\n",
       "      <td>4.10</td>\n",
       "      <td>2.74</td>\n",
       "      <td>24.5</td>\n",
       "      <td>96</td>\n",
       "      <td>2.05</td>\n",
       "      <td>0.76</td>\n",
       "      <td>0.56</td>\n",
       "      <td>1.35</td>\n",
       "      <td>9.20</td>\n",
       "      <td>0.61</td>\n",
       "      <td>1.60</td>\n",
       "      <td>560</td>\n",
       "    </tr>\n",
       "  </tbody>\n",
       "</table>\n",
       "<p>178 rows × 13 columns</p>\n",
       "</div>"
      ],
      "text/plain": [
       "     Alcohol  Malic_Acid   Ash  Ash_Alcanity  Magnesium  Total_Phenols  \\\n",
       "0      14.23        1.71  2.43          15.6        127           2.80   \n",
       "1      13.20        1.78  2.14          11.2        100           2.65   \n",
       "2      13.16        2.36  2.67          18.6        101           2.80   \n",
       "3      14.37        1.95  2.50          16.8        113           3.85   \n",
       "4      13.24        2.59  2.87          21.0        118           2.80   \n",
       "..       ...         ...   ...           ...        ...            ...   \n",
       "173    13.71        5.65  2.45          20.5         95           1.68   \n",
       "174    13.40        3.91  2.48          23.0        102           1.80   \n",
       "175    13.27        4.28  2.26          20.0        120           1.59   \n",
       "176    13.17        2.59  2.37          20.0        120           1.65   \n",
       "177    14.13        4.10  2.74          24.5         96           2.05   \n",
       "\n",
       "     Flavanoids  Nonflavanoid_Phenols  Proanthocyanins  Color_Intensity   Hue  \\\n",
       "0          3.06                  0.28             2.29             5.64  1.04   \n",
       "1          2.76                  0.26             1.28             4.38  1.05   \n",
       "2          3.24                  0.30             2.81             5.68  1.03   \n",
       "3          3.49                  0.24             2.18             7.80  0.86   \n",
       "4          2.69                  0.39             1.82             4.32  1.04   \n",
       "..          ...                   ...              ...              ...   ...   \n",
       "173        0.61                  0.52             1.06             7.70  0.64   \n",
       "174        0.75                  0.43             1.41             7.30  0.70   \n",
       "175        0.69                  0.43             1.35            10.20  0.59   \n",
       "176        0.68                  0.53             1.46             9.30  0.60   \n",
       "177        0.76                  0.56             1.35             9.20  0.61   \n",
       "\n",
       "     OD280  Proline  \n",
       "0     3.92     1065  \n",
       "1     3.40     1050  \n",
       "2     3.17     1185  \n",
       "3     3.45     1480  \n",
       "4     2.93      735  \n",
       "..     ...      ...  \n",
       "173   1.74      740  \n",
       "174   1.56      750  \n",
       "175   1.56      835  \n",
       "176   1.62      840  \n",
       "177   1.60      560  \n",
       "\n",
       "[178 rows x 13 columns]"
      ]
     },
     "execution_count": 3,
     "metadata": {},
     "output_type": "execute_result"
    }
   ],
   "source": [
    "df"
   ]
  },
  {
   "cell_type": "markdown",
   "id": "2cf16313",
   "metadata": {},
   "source": [
    "# checking null values"
   ]
  },
  {
   "cell_type": "code",
   "execution_count": 4,
   "id": "8784f6b9",
   "metadata": {},
   "outputs": [
    {
     "data": {
      "text/plain": [
       "Alcohol                 0\n",
       "Malic_Acid              0\n",
       "Ash                     0\n",
       "Ash_Alcanity            0\n",
       "Magnesium               0\n",
       "Total_Phenols           0\n",
       "Flavanoids              0\n",
       "Nonflavanoid_Phenols    0\n",
       "Proanthocyanins         0\n",
       "Color_Intensity         0\n",
       "Hue                     0\n",
       "OD280                   0\n",
       "Proline                 0\n",
       "dtype: int64"
      ]
     },
     "execution_count": 4,
     "metadata": {},
     "output_type": "execute_result"
    }
   ],
   "source": [
    "df.isna().sum()"
   ]
  },
  {
   "cell_type": "code",
   "execution_count": 5,
   "id": "fec11c31",
   "metadata": {},
   "outputs": [
    {
     "data": {
      "text/plain": [
       "Alcohol                     AxesSubplot(0.125,0.71587;0.168478x0.16413)\n",
       "Malic_Acid               AxesSubplot(0.327174,0.71587;0.168478x0.16413)\n",
       "Ash                      AxesSubplot(0.529348,0.71587;0.168478x0.16413)\n",
       "Ash_Alcanity             AxesSubplot(0.731522,0.71587;0.168478x0.16413)\n",
       "Magnesium                  AxesSubplot(0.125,0.518913;0.168478x0.16413)\n",
       "Total_Phenols           AxesSubplot(0.327174,0.518913;0.168478x0.16413)\n",
       "Flavanoids              AxesSubplot(0.529348,0.518913;0.168478x0.16413)\n",
       "Nonflavanoid_Phenols    AxesSubplot(0.731522,0.518913;0.168478x0.16413)\n",
       "Proanthocyanins            AxesSubplot(0.125,0.321957;0.168478x0.16413)\n",
       "Color_Intensity         AxesSubplot(0.327174,0.321957;0.168478x0.16413)\n",
       "Hue                     AxesSubplot(0.529348,0.321957;0.168478x0.16413)\n",
       "OD280                   AxesSubplot(0.731522,0.321957;0.168478x0.16413)\n",
       "Proline                       AxesSubplot(0.125,0.125;0.168478x0.16413)\n",
       "dtype: object"
      ]
     },
     "execution_count": 5,
     "metadata": {},
     "output_type": "execute_result"
    },
    {
     "data": {
      "image/png": "[encoded data removed]",
      "text/plain": [
       "<Figure size 1080x1080 with 16 Axes>"
      ]
     },
     "metadata": {
      "needs_background": "light"
     },
     "output_type": "display_data"
    }
   ],
   "source": [
    "df.plot(kind='box', subplots=True, layout=(4,4), figsize=(15,15))"
   ]
  },
  {
   "cell_type": "markdown",
   "id": "797f5619",
   "metadata": {},
   "source": [
    "# checking  and handling outliers"
   ]
  },
  {
   "cell_type": "code",
   "execution_count": 6,
   "id": "70c968ed",
   "metadata": {},
   "outputs": [
    {
     "data": {
      "image/png": "[encoded data removed]",
      "text/plain": [
       "<Figure size 432x288 with 1 Axes>"
      ]
     },
     "metadata": {
      "needs_background": "light"
     },
     "output_type": "display_data"
    },
    {
     "data": {
      "image/png": "[encoded data removed]",
      "text/plain": [
       "<Figure size 432x288 with 1 Axes>"
      ]
     },
     "metadata": {
      "needs_background": "light"
     },
     "output_type": "display_data"
    },
    {
     "data": {
      "image/png": "[encoded data removed]",
      "text/plain": [
       "<Figure size 432x288 with 1 Axes>"
      ]
     },
     "metadata": {
      "needs_background": "light"
     },
     "output_type": "display_data"
    },
    {
     "data": {
      "image/png": "[encoded data removed]",
      "text/plain": [
       "<Figure size 432x288 with 1 Axes>"
      ]
     },
     "metadata": {
      "needs_background": "light"
     },
     "output_type": "display_data"
    },
    {
     "data": {
      "image/png": "[encoded data removed]",
      "text/plain": [
       "<Figure size 432x288 with 1 Axes>"
      ]
     },
     "metadata": {
      "needs_background": "light"
     },
     "output_type": "display_data"
    },
    {
     "data": {
      "image/png": "[encoded data removed]",
      "text/plain": [
       "<Figure size 432x288 with 1 Axes>"
      ]
     },
     "metadata": {
      "needs_background": "light"
     },
     "output_type": "display_data"
    },
    {
     "data": {
      "image/png": "[encoded data removed]",
      "text/plain": [
       "<Figure size 432x288 with 1 Axes>"
      ]
     },
     "metadata": {
      "needs_background": "light"
     },
     "output_type": "display_data"
    },
    {
     "data": {
      "image/png": "[encoded data removed]",
      "text/plain": [
       "<Figure size 432x288 with 1 Axes>"
      ]
     },
     "metadata": {
      "needs_background": "light"
     },
     "output_type": "display_data"
    },
    {
     "data": {
      "image/png": "[encoded data removed]",
      "text/plain": [
       "<Figure size 432x288 with 1 Axes>"
      ]
     },
     "metadata": {
      "needs_background": "light"
     },
     "output_type": "display_data"
    },
    {
     "data": {
      "image/png": "[encoded data removed]",
      "text/plain": [
       "<Figure size 432x288 with 1 Axes>"
      ]
     },
     "metadata": {
      "needs_background": "light"
     },
     "output_type": "display_data"
    },
    {
     "data": {
      "image/png": "[encoded data removed]",
      "text/plain": [
       "<Figure size 432x288 with 1 Axes>"
      ]
     },
     "metadata": {
      "needs_background": "light"
     },
     "output_type": "display_data"
    },
    {
     "data": {
      "image/png": "[encoded data removed]",
      "text/plain": [
       "<Figure size 432x288 with 1 Axes>"
      ]
     },
     "metadata": {
      "needs_background": "light"
     },
     "output_type": "display_data"
    },
    {
     "data": {
      "image/png": "[encoded data removed]",
      "text/plain": [
       "<Figure size 432x288 with 1 Axes>"
      ]
     },
     "metadata": {
      "needs_background": "light"
     },
     "output_type": "display_data"
    }
   ],
   "source": [
    "for x in df.columns:\n",
    " Q1=np.percentile(df[x],25, interpolation ='midpoint')\n",
    " Q2=np.percentile(df[x],50, interpolation ='midpoint')\n",
    " Q3=np.percentile(df[x],75, interpolation ='midpoint')\n",
    " IQR =Q3-Q1\n",
    " low_limit = Q1-1.5*IQR\n",
    " upper_limit =Q3+1.5*IQR\n",
    " ind_1 =df[x]>upper_limit\n",
    " df.drop(df.loc[ind_1].index,inplace =True)\n",
    " ind_2 =df[x]<low_limit\n",
    " df.drop(df.loc[ind_2].index,inplace =True)\n",
    " df[[x]].boxplot()\n",
    " plt.show()"
   ]
  },
  {
   "cell_type": "code",
   "execution_count": 7,
   "id": "e91d90d1",
   "metadata": {},
   "outputs": [
    {
     "data": {
      "text/html": [
       "<div>\n",
       "<style scoped>\n",
       "    .dataframe tbody tr th:only-of-type {\n",
       "        vertical-align: middle;\n",
       "    }\n",
       "\n",
       "    .dataframe tbody tr th {\n",
       "        vertical-align: top;\n",
       "    }\n",
       "\n",
       "    .dataframe thead th {\n",
       "        text-align: right;\n",
       "    }\n",
       "</style>\n",
       "<table border=\"1\" class=\"dataframe\">\n",
       "  <thead>\n",
       "    <tr style=\"text-align: right;\">\n",
       "      <th></th>\n",
       "      <th>Alcohol</th>\n",
       "      <th>Malic_Acid</th>\n",
       "      <th>Ash</th>\n",
       "      <th>Ash_Alcanity</th>\n",
       "      <th>Magnesium</th>\n",
       "      <th>Total_Phenols</th>\n",
       "      <th>Flavanoids</th>\n",
       "      <th>Nonflavanoid_Phenols</th>\n",
       "      <th>Proanthocyanins</th>\n",
       "      <th>Color_Intensity</th>\n",
       "      <th>Hue</th>\n",
       "      <th>OD280</th>\n",
       "      <th>Proline</th>\n",
       "    </tr>\n",
       "  </thead>\n",
       "  <tbody>\n",
       "    <tr>\n",
       "      <th>count</th>\n",
       "      <td>161.000000</td>\n",
       "      <td>161.000000</td>\n",
       "      <td>161.000000</td>\n",
       "      <td>161.000000</td>\n",
       "      <td>161.000000</td>\n",
       "      <td>161.000000</td>\n",
       "      <td>161.000000</td>\n",
       "      <td>161.000000</td>\n",
       "      <td>161.000000</td>\n",
       "      <td>161.000000</td>\n",
       "      <td>161.000000</td>\n",
       "      <td>161.000000</td>\n",
       "      <td>161.000000</td>\n",
       "    </tr>\n",
       "    <tr>\n",
       "      <th>mean</th>\n",
       "      <td>13.034596</td>\n",
       "      <td>2.318199</td>\n",
       "      <td>2.364658</td>\n",
       "      <td>19.300621</td>\n",
       "      <td>98.590062</td>\n",
       "      <td>2.280435</td>\n",
       "      <td>2.026894</td>\n",
       "      <td>0.359006</td>\n",
       "      <td>1.538758</td>\n",
       "      <td>5.033913</td>\n",
       "      <td>0.956932</td>\n",
       "      <td>2.619876</td>\n",
       "      <td>753.819876</td>\n",
       "    </tr>\n",
       "    <tr>\n",
       "      <th>std</th>\n",
       "      <td>0.791422</td>\n",
       "      <td>1.053406</td>\n",
       "      <td>0.241922</td>\n",
       "      <td>2.974149</td>\n",
       "      <td>12.401347</td>\n",
       "      <td>0.628964</td>\n",
       "      <td>0.981421</td>\n",
       "      <td>0.121821</td>\n",
       "      <td>0.513838</td>\n",
       "      <td>2.155207</td>\n",
       "      <td>0.217376</td>\n",
       "      <td>0.713409</td>\n",
       "      <td>317.816297</td>\n",
       "    </tr>\n",
       "    <tr>\n",
       "      <th>min</th>\n",
       "      <td>11.410000</td>\n",
       "      <td>0.740000</td>\n",
       "      <td>1.700000</td>\n",
       "      <td>11.200000</td>\n",
       "      <td>70.000000</td>\n",
       "      <td>0.980000</td>\n",
       "      <td>0.340000</td>\n",
       "      <td>0.130000</td>\n",
       "      <td>0.410000</td>\n",
       "      <td>1.280000</td>\n",
       "      <td>0.540000</td>\n",
       "      <td>1.270000</td>\n",
       "      <td>278.000000</td>\n",
       "    </tr>\n",
       "    <tr>\n",
       "      <th>25%</th>\n",
       "      <td>12.370000</td>\n",
       "      <td>1.610000</td>\n",
       "      <td>2.230000</td>\n",
       "      <td>17.200000</td>\n",
       "      <td>88.000000</td>\n",
       "      <td>1.700000</td>\n",
       "      <td>1.200000</td>\n",
       "      <td>0.270000</td>\n",
       "      <td>1.240000</td>\n",
       "      <td>3.270000</td>\n",
       "      <td>0.790000</td>\n",
       "      <td>2.000000</td>\n",
       "      <td>502.000000</td>\n",
       "    </tr>\n",
       "    <tr>\n",
       "      <th>50%</th>\n",
       "      <td>13.070000</td>\n",
       "      <td>1.860000</td>\n",
       "      <td>2.360000</td>\n",
       "      <td>19.000000</td>\n",
       "      <td>98.000000</td>\n",
       "      <td>2.320000</td>\n",
       "      <td>2.130000</td>\n",
       "      <td>0.340000</td>\n",
       "      <td>1.480000</td>\n",
       "      <td>4.800000</td>\n",
       "      <td>0.960000</td>\n",
       "      <td>2.780000</td>\n",
       "      <td>675.000000</td>\n",
       "    </tr>\n",
       "    <tr>\n",
       "      <th>75%</th>\n",
       "      <td>13.690000</td>\n",
       "      <td>3.100000</td>\n",
       "      <td>2.540000</td>\n",
       "      <td>21.000000</td>\n",
       "      <td>106.000000</td>\n",
       "      <td>2.800000</td>\n",
       "      <td>2.900000</td>\n",
       "      <td>0.430000</td>\n",
       "      <td>1.870000</td>\n",
       "      <td>6.200000</td>\n",
       "      <td>1.120000</td>\n",
       "      <td>3.180000</td>\n",
       "      <td>1020.000000</td>\n",
       "    </tr>\n",
       "    <tr>\n",
       "      <th>max</th>\n",
       "      <td>14.830000</td>\n",
       "      <td>5.190000</td>\n",
       "      <td>2.920000</td>\n",
       "      <td>27.000000</td>\n",
       "      <td>134.000000</td>\n",
       "      <td>3.880000</td>\n",
       "      <td>3.930000</td>\n",
       "      <td>0.660000</td>\n",
       "      <td>2.910000</td>\n",
       "      <td>10.680000</td>\n",
       "      <td>1.450000</td>\n",
       "      <td>4.000000</td>\n",
       "      <td>1680.000000</td>\n",
       "    </tr>\n",
       "  </tbody>\n",
       "</table>\n",
       "</div>"
      ],
      "text/plain": [
       "          Alcohol  Malic_Acid         Ash  Ash_Alcanity   Magnesium  \\\n",
       "count  161.000000  161.000000  161.000000    161.000000  161.000000   \n",
       "mean    13.034596    2.318199    2.364658     19.300621   98.590062   \n",
       "std      0.791422    1.053406    0.241922      2.974149   12.401347   \n",
       "min     11.410000    0.740000    1.700000     11.200000   70.000000   \n",
       "25%     12.370000    1.610000    2.230000     17.200000   88.000000   \n",
       "50%     13.070000    1.860000    2.360000     19.000000   98.000000   \n",
       "75%     13.690000    3.100000    2.540000     21.000000  106.000000   \n",
       "max     14.830000    5.190000    2.920000     27.000000  134.000000   \n",
       "\n",
       "       Total_Phenols  Flavanoids  Nonflavanoid_Phenols  Proanthocyanins  \\\n",
       "count     161.000000  161.000000            161.000000       161.000000   \n",
       "mean        2.280435    2.026894              0.359006         1.538758   \n",
       "std         0.628964    0.981421              0.121821         0.513838   \n",
       "min         0.980000    0.340000              0.130000         0.410000   \n",
       "25%         1.700000    1.200000              0.270000         1.240000   \n",
       "50%         2.320000    2.130000              0.340000         1.480000   \n",
       "75%         2.800000    2.900000              0.430000         1.870000   \n",
       "max         3.880000    3.930000              0.660000         2.910000   \n",
       "\n",
       "       Color_Intensity         Hue       OD280      Proline  \n",
       "count       161.000000  161.000000  161.000000   161.000000  \n",
       "mean          5.033913    0.956932    2.619876   753.819876  \n",
       "std           2.155207    0.217376    0.713409   317.816297  \n",
       "min           1.280000    0.540000    1.270000   278.000000  \n",
       "25%           3.270000    0.790000    2.000000   502.000000  \n",
       "50%           4.800000    0.960000    2.780000   675.000000  \n",
       "75%           6.200000    1.120000    3.180000  1020.000000  \n",
       "max          10.680000    1.450000    4.000000  1680.000000  "
      ]
     },
     "execution_count": 7,
     "metadata": {},
     "output_type": "execute_result"
    }
   ],
   "source": [
    "df.describe()"
   ]
  },
  {
   "cell_type": "markdown",
   "id": "c7a7108a",
   "metadata": {},
   "source": [
    "# Normalizing the data"
   ]
  },
  {
   "cell_type": "code",
   "execution_count": 8,
   "id": "65e4f88a",
   "metadata": {},
   "outputs": [
    {
     "data": {
      "text/html": [
       "<div>\n",
       "<style scoped>\n",
       "    .dataframe tbody tr th:only-of-type {\n",
       "        vertical-align: middle;\n",
       "    }\n",
       "\n",
       "    .dataframe tbody tr th {\n",
       "        vertical-align: top;\n",
       "    }\n",
       "\n",
       "    .dataframe thead th {\n",
       "        text-align: right;\n",
       "    }\n",
       "</style>\n",
       "<table border=\"1\" class=\"dataframe\">\n",
       "  <thead>\n",
       "    <tr style=\"text-align: right;\">\n",
       "      <th></th>\n",
       "      <th>0</th>\n",
       "      <th>1</th>\n",
       "      <th>2</th>\n",
       "      <th>3</th>\n",
       "      <th>4</th>\n",
       "      <th>5</th>\n",
       "      <th>6</th>\n",
       "      <th>7</th>\n",
       "      <th>8</th>\n",
       "      <th>9</th>\n",
       "      <th>10</th>\n",
       "      <th>11</th>\n",
       "      <th>12</th>\n",
       "    </tr>\n",
       "  </thead>\n",
       "  <tbody>\n",
       "    <tr>\n",
       "      <th>0</th>\n",
       "      <td>1.515163</td>\n",
       "      <td>-0.579166</td>\n",
       "      <td>0.270936</td>\n",
       "      <td>-1.248144</td>\n",
       "      <td>2.298023</td>\n",
       "      <td>0.828643</td>\n",
       "      <td>1.055948</td>\n",
       "      <td>-0.650569</td>\n",
       "      <td>1.466583</td>\n",
       "      <td>0.282097</td>\n",
       "      <td>0.383333</td>\n",
       "      <td>1.828097</td>\n",
       "      <td>0.982174</td>\n",
       "    </tr>\n",
       "    <tr>\n",
       "      <th>1</th>\n",
       "      <td>0.209648</td>\n",
       "      <td>-0.512507</td>\n",
       "      <td>-0.931537</td>\n",
       "      <td>-2.732175</td>\n",
       "      <td>0.114047</td>\n",
       "      <td>0.589411</td>\n",
       "      <td>0.749315</td>\n",
       "      <td>-0.815257</td>\n",
       "      <td>-0.505150</td>\n",
       "      <td>-0.304357</td>\n",
       "      <td>0.429479</td>\n",
       "      <td>1.096928</td>\n",
       "      <td>0.934830</td>\n",
       "    </tr>\n",
       "    <tr>\n",
       "      <th>2</th>\n",
       "      <td>0.158948</td>\n",
       "      <td>0.039806</td>\n",
       "      <td>1.266087</td>\n",
       "      <td>-0.236305</td>\n",
       "      <td>0.194935</td>\n",
       "      <td>0.828643</td>\n",
       "      <td>1.239928</td>\n",
       "      <td>-0.485881</td>\n",
       "      <td>2.481732</td>\n",
       "      <td>0.300715</td>\n",
       "      <td>0.337186</td>\n",
       "      <td>0.773526</td>\n",
       "      <td>1.360929</td>\n",
       "    </tr>\n",
       "    <tr>\n",
       "      <th>3</th>\n",
       "      <td>1.692612</td>\n",
       "      <td>-0.350622</td>\n",
       "      <td>0.561189</td>\n",
       "      <td>-0.843409</td>\n",
       "      <td>1.165591</td>\n",
       "      <td>2.503264</td>\n",
       "      <td>1.495455</td>\n",
       "      <td>-0.979945</td>\n",
       "      <td>1.251840</td>\n",
       "      <td>1.287448</td>\n",
       "      <td>-0.447308</td>\n",
       "      <td>1.167233</td>\n",
       "      <td>2.292034</td>\n",
       "    </tr>\n",
       "    <tr>\n",
       "      <th>4</th>\n",
       "      <td>0.260347</td>\n",
       "      <td>0.258826</td>\n",
       "      <td>2.095379</td>\n",
       "      <td>0.573166</td>\n",
       "      <td>1.570031</td>\n",
       "      <td>0.828643</td>\n",
       "      <td>0.677767</td>\n",
       "      <td>0.255215</td>\n",
       "      <td>0.549044</td>\n",
       "      <td>-0.332284</td>\n",
       "      <td>0.383333</td>\n",
       "      <td>0.436064</td>\n",
       "      <td>-0.059401</td>\n",
       "    </tr>\n",
       "  </tbody>\n",
       "</table>\n",
       "</div>"
      ],
      "text/plain": [
       "         0         1         2         3         4         5         6   \\\n",
       "0  1.515163 -0.579166  0.270936 -1.248144  2.298023  0.828643  1.055948   \n",
       "1  0.209648 -0.512507 -0.931537 -2.732175  0.114047  0.589411  0.749315   \n",
       "2  0.158948  0.039806  1.266087 -0.236305  0.194935  0.828643  1.239928   \n",
       "3  1.692612 -0.350622  0.561189 -0.843409  1.165591  2.503264  1.495455   \n",
       "4  0.260347  0.258826  2.095379  0.573166  1.570031  0.828643  0.677767   \n",
       "\n",
       "         7         8         9         10        11        12  \n",
       "0 -0.650569  1.466583  0.282097  0.383333  1.828097  0.982174  \n",
       "1 -0.815257 -0.505150 -0.304357  0.429479  1.096928  0.934830  \n",
       "2 -0.485881  2.481732  0.300715  0.337186  0.773526  1.360929  \n",
       "3 -0.979945  1.251840  1.287448 -0.447308  1.167233  2.292034  \n",
       "4  0.255215  0.549044 -0.332284  0.383333  0.436064 -0.059401  "
      ]
     },
     "execution_count": 8,
     "metadata": {},
     "output_type": "execute_result"
    }
   ],
   "source": [
    "from sklearn.preprocessing import StandardScaler\n",
    "scalar=StandardScaler()\n",
    "df1=scalar.fit_transform(df)\n",
    "df1=pd.DataFrame(df1)\n",
    "df1.head()"
   ]
  },
  {
   "cell_type": "code",
   "execution_count": 9,
   "id": "730f4adc",
   "metadata": {},
   "outputs": [
    {
     "data": {
      "text/html": [
       "<div>\n",
       "<style scoped>\n",
       "    .dataframe tbody tr th:only-of-type {\n",
       "        vertical-align: middle;\n",
       "    }\n",
       "\n",
       "    .dataframe tbody tr th {\n",
       "        vertical-align: top;\n",
       "    }\n",
       "\n",
       "    .dataframe thead th {\n",
       "        text-align: right;\n",
       "    }\n",
       "</style>\n",
       "<table border=\"1\" class=\"dataframe\">\n",
       "  <thead>\n",
       "    <tr style=\"text-align: right;\">\n",
       "      <th></th>\n",
       "      <th>0</th>\n",
       "      <th>1</th>\n",
       "      <th>2</th>\n",
       "      <th>3</th>\n",
       "      <th>4</th>\n",
       "      <th>5</th>\n",
       "      <th>6</th>\n",
       "      <th>7</th>\n",
       "      <th>8</th>\n",
       "      <th>9</th>\n",
       "      <th>10</th>\n",
       "      <th>11</th>\n",
       "      <th>12</th>\n",
       "    </tr>\n",
       "  </thead>\n",
       "  <tbody>\n",
       "    <tr>\n",
       "      <th>count</th>\n",
       "      <td>1.610000e+02</td>\n",
       "      <td>1.610000e+02</td>\n",
       "      <td>1.610000e+02</td>\n",
       "      <td>1.610000e+02</td>\n",
       "      <td>1.610000e+02</td>\n",
       "      <td>1.610000e+02</td>\n",
       "      <td>1.610000e+02</td>\n",
       "      <td>1.610000e+02</td>\n",
       "      <td>1.610000e+02</td>\n",
       "      <td>1.610000e+02</td>\n",
       "      <td>1.610000e+02</td>\n",
       "      <td>1.610000e+02</td>\n",
       "      <td>1.610000e+02</td>\n",
       "    </tr>\n",
       "    <tr>\n",
       "      <th>mean</th>\n",
       "      <td>3.082420e-15</td>\n",
       "      <td>-1.130910e-16</td>\n",
       "      <td>8.936951e-16</td>\n",
       "      <td>-7.033711e-17</td>\n",
       "      <td>-2.770386e-16</td>\n",
       "      <td>1.999781e-17</td>\n",
       "      <td>-5.047722e-16</td>\n",
       "      <td>-3.020358e-16</td>\n",
       "      <td>-4.585704e-17</td>\n",
       "      <td>2.358362e-16</td>\n",
       "      <td>9.336907e-16</td>\n",
       "      <td>-8.137038e-17</td>\n",
       "      <td>-2.965192e-17</td>\n",
       "    </tr>\n",
       "    <tr>\n",
       "      <th>std</th>\n",
       "      <td>1.003120e+00</td>\n",
       "      <td>1.003120e+00</td>\n",
       "      <td>1.003120e+00</td>\n",
       "      <td>1.003120e+00</td>\n",
       "      <td>1.003120e+00</td>\n",
       "      <td>1.003120e+00</td>\n",
       "      <td>1.003120e+00</td>\n",
       "      <td>1.003120e+00</td>\n",
       "      <td>1.003120e+00</td>\n",
       "      <td>1.003120e+00</td>\n",
       "      <td>1.003120e+00</td>\n",
       "      <td>1.003120e+00</td>\n",
       "      <td>1.003120e+00</td>\n",
       "    </tr>\n",
       "    <tr>\n",
       "      <th>min</th>\n",
       "      <td>-2.059161e+00</td>\n",
       "      <td>-1.502862e+00</td>\n",
       "      <td>-2.755979e+00</td>\n",
       "      <td>-2.732175e+00</td>\n",
       "      <td>-2.312593e+00</td>\n",
       "      <td>-2.074034e+00</td>\n",
       "      <td>-1.724192e+00</td>\n",
       "      <td>-1.885730e+00</td>\n",
       "      <td>-2.203572e+00</td>\n",
       "      <td>-1.747222e+00</td>\n",
       "      <td>-1.924002e+00</td>\n",
       "      <td>-1.898052e+00</td>\n",
       "      <td>-1.501825e+00</td>\n",
       "    </tr>\n",
       "    <tr>\n",
       "      <th>25%</th>\n",
       "      <td>-8.423697e-01</td>\n",
       "      <td>-6.743920e-01</td>\n",
       "      <td>-5.583556e-01</td>\n",
       "      <td>-7.084969e-01</td>\n",
       "      <td>-8.566089e-01</td>\n",
       "      <td>-9.257223e-01</td>\n",
       "      <td>-8.451773e-01</td>\n",
       "      <td>-7.329132e-01</td>\n",
       "      <td>-5.832379e-01</td>\n",
       "      <td>-8.209962e-01</td>\n",
       "      <td>-7.703344e-01</td>\n",
       "      <td>-8.716036e-01</td>\n",
       "      <td>-7.948163e-01</td>\n",
       "    </tr>\n",
       "    <tr>\n",
       "      <th>50%</th>\n",
       "      <td>4.487390e-02</td>\n",
       "      <td>-4.363261e-01</td>\n",
       "      <td>-1.931581e-02</td>\n",
       "      <td>-1.013934e-01</td>\n",
       "      <td>-4.772894e-02</td>\n",
       "      <td>6.310167e-02</td>\n",
       "      <td>1.053853e-01</td>\n",
       "      <td>-1.565048e-01</td>\n",
       "      <td>-1.147075e-01</td>\n",
       "      <td>-1.088726e-01</td>\n",
       "      <td>1.415929e-02</td>\n",
       "      <td>2.251497e-01</td>\n",
       "      <td>-2.487783e-01</td>\n",
       "    </tr>\n",
       "    <tr>\n",
       "      <th>75%</th>\n",
       "      <td>8.307182e-01</td>\n",
       "      <td>7.444810e-01</td>\n",
       "      <td>7.270469e-01</td>\n",
       "      <td>5.731660e-01</td>\n",
       "      <td>5.993751e-01</td>\n",
       "      <td>8.286428e-01</td>\n",
       "      <td>8.924102e-01</td>\n",
       "      <td>5.845916e-01</td>\n",
       "      <td>6.466544e-01</td>\n",
       "      <td>5.427439e-01</td>\n",
       "      <td>7.525063e-01</td>\n",
       "      <td>7.875873e-01</td>\n",
       "      <td>8.401414e-01</td>\n",
       "    </tr>\n",
       "    <tr>\n",
       "      <th>max</th>\n",
       "      <td>2.275658e+00</td>\n",
       "      <td>2.734712e+00</td>\n",
       "      <td>2.302702e+00</td>\n",
       "      <td>2.596844e+00</td>\n",
       "      <td>2.864239e+00</td>\n",
       "      <td>2.551110e+00</td>\n",
       "      <td>1.945184e+00</td>\n",
       "      <td>2.478505e+00</td>\n",
       "      <td>2.676953e+00</td>\n",
       "      <td>2.627916e+00</td>\n",
       "      <td>2.275347e+00</td>\n",
       "      <td>1.940584e+00</td>\n",
       "      <td>2.923292e+00</td>\n",
       "    </tr>\n",
       "  </tbody>\n",
       "</table>\n",
       "</div>"
      ],
      "text/plain": [
       "                 0             1             2             3             4   \\\n",
       "count  1.610000e+02  1.610000e+02  1.610000e+02  1.610000e+02  1.610000e+02   \n",
       "mean   3.082420e-15 -1.130910e-16  8.936951e-16 -7.033711e-17 -2.770386e-16   \n",
       "std    1.003120e+00  1.003120e+00  1.003120e+00  1.003120e+00  1.003120e+00   \n",
       "min   -2.059161e+00 -1.502862e+00 -2.755979e+00 -2.732175e+00 -2.312593e+00   \n",
       "25%   -8.423697e-01 -6.743920e-01 -5.583556e-01 -7.084969e-01 -8.566089e-01   \n",
       "50%    4.487390e-02 -4.363261e-01 -1.931581e-02 -1.013934e-01 -4.772894e-02   \n",
       "75%    8.307182e-01  7.444810e-01  7.270469e-01  5.731660e-01  5.993751e-01   \n",
       "max    2.275658e+00  2.734712e+00  2.302702e+00  2.596844e+00  2.864239e+00   \n",
       "\n",
       "                 5             6             7             8             9   \\\n",
       "count  1.610000e+02  1.610000e+02  1.610000e+02  1.610000e+02  1.610000e+02   \n",
       "mean   1.999781e-17 -5.047722e-16 -3.020358e-16 -4.585704e-17  2.358362e-16   \n",
       "std    1.003120e+00  1.003120e+00  1.003120e+00  1.003120e+00  1.003120e+00   \n",
       "min   -2.074034e+00 -1.724192e+00 -1.885730e+00 -2.203572e+00 -1.747222e+00   \n",
       "25%   -9.257223e-01 -8.451773e-01 -7.329132e-01 -5.832379e-01 -8.209962e-01   \n",
       "50%    6.310167e-02  1.053853e-01 -1.565048e-01 -1.147075e-01 -1.088726e-01   \n",
       "75%    8.286428e-01  8.924102e-01  5.845916e-01  6.466544e-01  5.427439e-01   \n",
       "max    2.551110e+00  1.945184e+00  2.478505e+00  2.676953e+00  2.627916e+00   \n",
       "\n",
       "                 10            11            12  \n",
       "count  1.610000e+02  1.610000e+02  1.610000e+02  \n",
       "mean   9.336907e-16 -8.137038e-17 -2.965192e-17  \n",
       "std    1.003120e+00  1.003120e+00  1.003120e+00  \n",
       "min   -1.924002e+00 -1.898052e+00 -1.501825e+00  \n",
       "25%   -7.703344e-01 -8.716036e-01 -7.948163e-01  \n",
       "50%    1.415929e-02  2.251497e-01 -2.487783e-01  \n",
       "75%    7.525063e-01  7.875873e-01  8.401414e-01  \n",
       "max    2.275347e+00  1.940584e+00  2.923292e+00  "
      ]
     },
     "execution_count": 9,
     "metadata": {},
     "output_type": "execute_result"
    }
   ],
   "source": [
    "df1.describe()"
   ]
  },
  {
   "cell_type": "markdown",
   "id": "914f8618",
   "metadata": {},
   "source": [
    "# K means clustering"
   ]
  },
  {
   "cell_type": "code",
   "execution_count": 10,
   "id": "48fb2fc4",
   "metadata": {},
   "outputs": [
    {
     "name": "stderr",
     "output_type": "stream",
     "text": [
      "C:\\Users\\robin\\anaconda3\\lib\\site-packages\\sklearn\\cluster\\_kmeans.py:1332: UserWarning: KMeans is known to have a memory leak on Windows with MKL, when there are less chunks than available threads. You can avoid it by setting the environment variable OMP_NUM_THREADS=1.\n",
      "  warnings.warn(\n"
     ]
    },
    {
     "name": "stdout",
     "output_type": "stream",
     "text": [
      "2093.0\n"
     ]
    },
    {
     "name": "stderr",
     "output_type": "stream",
     "text": [
      "C:\\Users\\robin\\anaconda3\\lib\\site-packages\\sklearn\\cluster\\_kmeans.py:1332: UserWarning: KMeans is known to have a memory leak on Windows with MKL, when there are less chunks than available threads. You can avoid it by setting the environment variable OMP_NUM_THREADS=1.\n",
      "  warnings.warn(\n"
     ]
    },
    {
     "name": "stdout",
     "output_type": "stream",
     "text": [
      "1453.2302460891567\n"
     ]
    },
    {
     "name": "stderr",
     "output_type": "stream",
     "text": [
      "C:\\Users\\robin\\anaconda3\\lib\\site-packages\\sklearn\\cluster\\_kmeans.py:1332: UserWarning: KMeans is known to have a memory leak on Windows with MKL, when there are less chunks than available threads. You can avoid it by setting the environment variable OMP_NUM_THREADS=1.\n",
      "  warnings.warn(\n"
     ]
    },
    {
     "name": "stdout",
     "output_type": "stream",
     "text": [
      "1080.418730392001\n"
     ]
    },
    {
     "name": "stderr",
     "output_type": "stream",
     "text": [
      "C:\\Users\\robin\\anaconda3\\lib\\site-packages\\sklearn\\cluster\\_kmeans.py:1332: UserWarning: KMeans is known to have a memory leak on Windows with MKL, when there are less chunks than available threads. You can avoid it by setting the environment variable OMP_NUM_THREADS=1.\n",
      "  warnings.warn(\n"
     ]
    },
    {
     "name": "stdout",
     "output_type": "stream",
     "text": [
      "996.5887935875476\n"
     ]
    },
    {
     "name": "stderr",
     "output_type": "stream",
     "text": [
      "C:\\Users\\robin\\anaconda3\\lib\\site-packages\\sklearn\\cluster\\_kmeans.py:1332: UserWarning: KMeans is known to have a memory leak on Windows with MKL, when there are less chunks than available threads. You can avoid it by setting the environment variable OMP_NUM_THREADS=1.\n",
      "  warnings.warn(\n"
     ]
    },
    {
     "name": "stdout",
     "output_type": "stream",
     "text": [
      "935.3954327556506\n"
     ]
    },
    {
     "name": "stderr",
     "output_type": "stream",
     "text": [
      "C:\\Users\\robin\\anaconda3\\lib\\site-packages\\sklearn\\cluster\\_kmeans.py:1332: UserWarning: KMeans is known to have a memory leak on Windows with MKL, when there are less chunks than available threads. You can avoid it by setting the environment variable OMP_NUM_THREADS=1.\n",
      "  warnings.warn(\n"
     ]
    },
    {
     "name": "stdout",
     "output_type": "stream",
     "text": [
      "883.0645994879956\n"
     ]
    },
    {
     "name": "stderr",
     "output_type": "stream",
     "text": [
      "C:\\Users\\robin\\anaconda3\\lib\\site-packages\\sklearn\\cluster\\_kmeans.py:1332: UserWarning: KMeans is known to have a memory leak on Windows with MKL, when there are less chunks than available threads. You can avoid it by setting the environment variable OMP_NUM_THREADS=1.\n",
      "  warnings.warn(\n"
     ]
    },
    {
     "name": "stdout",
     "output_type": "stream",
     "text": [
      "839.4649448024404\n"
     ]
    },
    {
     "name": "stderr",
     "output_type": "stream",
     "text": [
      "C:\\Users\\robin\\anaconda3\\lib\\site-packages\\sklearn\\cluster\\_kmeans.py:1332: UserWarning: KMeans is known to have a memory leak on Windows with MKL, when there are less chunks than available threads. You can avoid it by setting the environment variable OMP_NUM_THREADS=1.\n",
      "  warnings.warn(\n"
     ]
    },
    {
     "name": "stdout",
     "output_type": "stream",
     "text": [
      "797.7459081496827\n"
     ]
    },
    {
     "name": "stderr",
     "output_type": "stream",
     "text": [
      "C:\\Users\\robin\\anaconda3\\lib\\site-packages\\sklearn\\cluster\\_kmeans.py:1332: UserWarning: KMeans is known to have a memory leak on Windows with MKL, when there are less chunks than available threads. You can avoid it by setting the environment variable OMP_NUM_THREADS=1.\n",
      "  warnings.warn(\n"
     ]
    },
    {
     "name": "stdout",
     "output_type": "stream",
     "text": [
      "769.7408010681218\n"
     ]
    },
    {
     "name": "stderr",
     "output_type": "stream",
     "text": [
      "C:\\Users\\robin\\anaconda3\\lib\\site-packages\\sklearn\\cluster\\_kmeans.py:1332: UserWarning: KMeans is known to have a memory leak on Windows with MKL, when there are less chunks than available threads. You can avoid it by setting the environment variable OMP_NUM_THREADS=1.\n",
      "  warnings.warn(\n"
     ]
    },
    {
     "name": "stdout",
     "output_type": "stream",
     "text": [
      "742.845839004708\n"
     ]
    },
    {
     "data": {
      "image/png": "[encoded data removed]",
      "text/plain": [
       "<Figure size 432x288 with 1 Axes>"
      ]
     },
     "metadata": {
      "needs_background": "light"
     },
     "output_type": "display_data"
    }
   ],
   "source": [
    "from sklearn.cluster import KMeans\n",
    "wcss=[]\n",
    "for i in range(1,11):\n",
    "    kmeans= KMeans(n_clusters=i, init= 'k-means++', random_state=42)\n",
    "    kmeans.fit(df1)\n",
    "    wcss.append(kmeans.inertia_)\n",
    "    print(kmeans.inertia_)\n",
    "plt.plot(range(1,11),wcss,'-o')\n",
    "plt.title(\"The elbow method\")\n",
    "plt.xlabel(\"Number of clusters\")\n",
    "plt.ylabel(\"wcss\")\n",
    "plt.show()"
   ]
  },
  {
   "cell_type": "markdown",
   "id": "fb838d3b",
   "metadata": {},
   "source": [
    "The optimum number of clusters is 3"
   ]
  },
  {
   "cell_type": "code",
   "execution_count": 11,
   "id": "266cba90",
   "metadata": {},
   "outputs": [
    {
     "name": "stderr",
     "output_type": "stream",
     "text": [
      "C:\\Users\\robin\\anaconda3\\lib\\site-packages\\sklearn\\cluster\\_kmeans.py:1332: UserWarning: KMeans is known to have a memory leak on Windows with MKL, when there are less chunks than available threads. You can avoid it by setting the environment variable OMP_NUM_THREADS=1.\n",
      "  warnings.warn(\n"
     ]
    },
    {
     "data": {
      "text/plain": [
       "array([1, 1, 1, 1, 2, 1, 1, 1, 1, 1, 1, 1, 1, 1, 1, 1, 1, 1, 2, 2, 2, 1,\n",
       "       1, 2, 1, 1, 2, 1, 1, 1, 1, 1, 1, 2, 2, 1, 1, 2, 2, 1, 1, 2, 2, 1,\n",
       "       1, 1, 1, 1, 1, 1, 1, 1, 1, 1, 1, 1, 1, 2, 0, 2, 0, 0, 2, 0, 0, 2,\n",
       "       2, 0, 0, 2, 0, 0, 0, 0, 0, 2, 2, 0, 0, 0, 0, 0, 2, 2, 0, 0, 0, 0,\n",
       "       0, 2, 0, 2, 0, 2, 0, 0, 0, 2, 0, 0, 0, 0, 2, 0, 2, 0, 0, 0, 0, 0,\n",
       "       0, 2, 0, 0, 0, 0, 0, 0, 2, 0, 0, 2, 2, 2, 2, 0, 2, 2, 2, 0, 0, 2,\n",
       "       2, 0, 2, 2, 0, 0, 0, 2, 2, 2, 0, 2, 0, 2, 0, 2, 2, 0, 2, 2, 2, 2,\n",
       "       0, 0, 2, 2, 2, 2, 0])"
      ]
     },
     "execution_count": 11,
     "metadata": {},
     "output_type": "execute_result"
    }
   ],
   "source": [
    "kmeans=KMeans(n_clusters=3,init='k-means++',random_state=42)\n",
    "y_kmeans=kmeans.fit_predict(df)\n",
    "y_kmeans"
   ]
  },
  {
   "cell_type": "code",
   "execution_count": 12,
   "id": "cac8c861",
   "metadata": {},
   "outputs": [],
   "source": [
    "df1['Category']=y_kmeans"
   ]
  },
  {
   "cell_type": "code",
   "execution_count": 13,
   "id": "5ad7f869",
   "metadata": {},
   "outputs": [
    {
     "data": {
      "text/html": [
       "<div>\n",
       "<style scoped>\n",
       "    .dataframe tbody tr th:only-of-type {\n",
       "        vertical-align: middle;\n",
       "    }\n",
       "\n",
       "    .dataframe tbody tr th {\n",
       "        vertical-align: top;\n",
       "    }\n",
       "\n",
       "    .dataframe thead th {\n",
       "        text-align: right;\n",
       "    }\n",
       "</style>\n",
       "<table border=\"1\" class=\"dataframe\">\n",
       "  <thead>\n",
       "    <tr style=\"text-align: right;\">\n",
       "      <th></th>\n",
       "      <th>0</th>\n",
       "      <th>1</th>\n",
       "      <th>2</th>\n",
       "      <th>3</th>\n",
       "      <th>4</th>\n",
       "      <th>5</th>\n",
       "      <th>6</th>\n",
       "      <th>7</th>\n",
       "      <th>8</th>\n",
       "      <th>9</th>\n",
       "      <th>10</th>\n",
       "      <th>11</th>\n",
       "      <th>12</th>\n",
       "      <th>Category</th>\n",
       "    </tr>\n",
       "  </thead>\n",
       "  <tbody>\n",
       "    <tr>\n",
       "      <th>0</th>\n",
       "      <td>1.515163</td>\n",
       "      <td>-0.579166</td>\n",
       "      <td>0.270936</td>\n",
       "      <td>-1.248144</td>\n",
       "      <td>2.298023</td>\n",
       "      <td>0.828643</td>\n",
       "      <td>1.055948</td>\n",
       "      <td>-0.650569</td>\n",
       "      <td>1.466583</td>\n",
       "      <td>0.282097</td>\n",
       "      <td>0.383333</td>\n",
       "      <td>1.828097</td>\n",
       "      <td>0.982174</td>\n",
       "      <td>1</td>\n",
       "    </tr>\n",
       "    <tr>\n",
       "      <th>1</th>\n",
       "      <td>0.209648</td>\n",
       "      <td>-0.512507</td>\n",
       "      <td>-0.931537</td>\n",
       "      <td>-2.732175</td>\n",
       "      <td>0.114047</td>\n",
       "      <td>0.589411</td>\n",
       "      <td>0.749315</td>\n",
       "      <td>-0.815257</td>\n",
       "      <td>-0.505150</td>\n",
       "      <td>-0.304357</td>\n",
       "      <td>0.429479</td>\n",
       "      <td>1.096928</td>\n",
       "      <td>0.934830</td>\n",
       "      <td>1</td>\n",
       "    </tr>\n",
       "    <tr>\n",
       "      <th>2</th>\n",
       "      <td>0.158948</td>\n",
       "      <td>0.039806</td>\n",
       "      <td>1.266087</td>\n",
       "      <td>-0.236305</td>\n",
       "      <td>0.194935</td>\n",
       "      <td>0.828643</td>\n",
       "      <td>1.239928</td>\n",
       "      <td>-0.485881</td>\n",
       "      <td>2.481732</td>\n",
       "      <td>0.300715</td>\n",
       "      <td>0.337186</td>\n",
       "      <td>0.773526</td>\n",
       "      <td>1.360929</td>\n",
       "      <td>1</td>\n",
       "    </tr>\n",
       "    <tr>\n",
       "      <th>3</th>\n",
       "      <td>1.692612</td>\n",
       "      <td>-0.350622</td>\n",
       "      <td>0.561189</td>\n",
       "      <td>-0.843409</td>\n",
       "      <td>1.165591</td>\n",
       "      <td>2.503264</td>\n",
       "      <td>1.495455</td>\n",
       "      <td>-0.979945</td>\n",
       "      <td>1.251840</td>\n",
       "      <td>1.287448</td>\n",
       "      <td>-0.447308</td>\n",
       "      <td>1.167233</td>\n",
       "      <td>2.292034</td>\n",
       "      <td>1</td>\n",
       "    </tr>\n",
       "    <tr>\n",
       "      <th>4</th>\n",
       "      <td>0.260347</td>\n",
       "      <td>0.258826</td>\n",
       "      <td>2.095379</td>\n",
       "      <td>0.573166</td>\n",
       "      <td>1.570031</td>\n",
       "      <td>0.828643</td>\n",
       "      <td>0.677767</td>\n",
       "      <td>0.255215</td>\n",
       "      <td>0.549044</td>\n",
       "      <td>-0.332284</td>\n",
       "      <td>0.383333</td>\n",
       "      <td>0.436064</td>\n",
       "      <td>-0.059401</td>\n",
       "      <td>2</td>\n",
       "    </tr>\n",
       "    <tr>\n",
       "      <th>...</th>\n",
       "      <td>...</td>\n",
       "      <td>...</td>\n",
       "      <td>...</td>\n",
       "      <td>...</td>\n",
       "      <td>...</td>\n",
       "      <td>...</td>\n",
       "      <td>...</td>\n",
       "      <td>...</td>\n",
       "      <td>...</td>\n",
       "      <td>...</td>\n",
       "      <td>...</td>\n",
       "      <td>...</td>\n",
       "      <td>...</td>\n",
       "      <td>...</td>\n",
       "    </tr>\n",
       "    <tr>\n",
       "      <th>156</th>\n",
       "      <td>1.426439</td>\n",
       "      <td>0.182645</td>\n",
       "      <td>0.478259</td>\n",
       "      <td>0.235886</td>\n",
       "      <td>-0.613945</td>\n",
       "      <td>-0.957620</td>\n",
       "      <td>-1.356232</td>\n",
       "      <td>0.666936</td>\n",
       "      <td>-0.583238</td>\n",
       "      <td>2.171785</td>\n",
       "      <td>-1.554828</td>\n",
       "      <td>-1.279371</td>\n",
       "      <td>-0.296123</td>\n",
       "      <td>2</td>\n",
       "    </tr>\n",
       "    <tr>\n",
       "      <th>157</th>\n",
       "      <td>0.463146</td>\n",
       "      <td>1.515815</td>\n",
       "      <td>0.478259</td>\n",
       "      <td>1.247725</td>\n",
       "      <td>0.275823</td>\n",
       "      <td>-0.766235</td>\n",
       "      <td>-1.305127</td>\n",
       "      <td>0.584592</td>\n",
       "      <td>-0.251362</td>\n",
       "      <td>1.054728</td>\n",
       "      <td>-1.185655</td>\n",
       "      <td>-1.490285</td>\n",
       "      <td>-0.012057</td>\n",
       "      <td>2</td>\n",
       "    </tr>\n",
       "    <tr>\n",
       "      <th>158</th>\n",
       "      <td>0.298372</td>\n",
       "      <td>1.868152</td>\n",
       "      <td>-0.433962</td>\n",
       "      <td>0.235886</td>\n",
       "      <td>1.731807</td>\n",
       "      <td>-1.101159</td>\n",
       "      <td>-1.366453</td>\n",
       "      <td>0.584592</td>\n",
       "      <td>-0.368495</td>\n",
       "      <td>2.404505</td>\n",
       "      <td>-1.693268</td>\n",
       "      <td>-1.490285</td>\n",
       "      <td>0.256228</td>\n",
       "      <td>2</td>\n",
       "    </tr>\n",
       "    <tr>\n",
       "      <th>159</th>\n",
       "      <td>0.171623</td>\n",
       "      <td>0.258826</td>\n",
       "      <td>0.022149</td>\n",
       "      <td>0.235886</td>\n",
       "      <td>1.731807</td>\n",
       "      <td>-1.005466</td>\n",
       "      <td>-1.376675</td>\n",
       "      <td>1.408032</td>\n",
       "      <td>-0.153752</td>\n",
       "      <td>1.985609</td>\n",
       "      <td>-1.647122</td>\n",
       "      <td>-1.405919</td>\n",
       "      <td>0.272009</td>\n",
       "      <td>2</td>\n",
       "    </tr>\n",
       "    <tr>\n",
       "      <th>160</th>\n",
       "      <td>1.388414</td>\n",
       "      <td>1.696745</td>\n",
       "      <td>1.556339</td>\n",
       "      <td>1.753645</td>\n",
       "      <td>-0.209505</td>\n",
       "      <td>-0.367515</td>\n",
       "      <td>-1.294906</td>\n",
       "      <td>1.655064</td>\n",
       "      <td>-0.368495</td>\n",
       "      <td>1.939065</td>\n",
       "      <td>-1.600975</td>\n",
       "      <td>-1.434041</td>\n",
       "      <td>-0.611752</td>\n",
       "      <td>0</td>\n",
       "    </tr>\n",
       "  </tbody>\n",
       "</table>\n",
       "<p>161 rows × 14 columns</p>\n",
       "</div>"
      ],
      "text/plain": [
       "            0         1         2         3         4         5         6  \\\n",
       "0    1.515163 -0.579166  0.270936 -1.248144  2.298023  0.828643  1.055948   \n",
       "1    0.209648 -0.512507 -0.931537 -2.732175  0.114047  0.589411  0.749315   \n",
       "2    0.158948  0.039806  1.266087 -0.236305  0.194935  0.828643  1.239928   \n",
       "3    1.692612 -0.350622  0.561189 -0.843409  1.165591  2.503264  1.495455   \n",
       "4    0.260347  0.258826  2.095379  0.573166  1.570031  0.828643  0.677767   \n",
       "..        ...       ...       ...       ...       ...       ...       ...   \n",
       "156  1.426439  0.182645  0.478259  0.235886 -0.613945 -0.957620 -1.356232   \n",
       "157  0.463146  1.515815  0.478259  1.247725  0.275823 -0.766235 -1.305127   \n",
       "158  0.298372  1.868152 -0.433962  0.235886  1.731807 -1.101159 -1.366453   \n",
       "159  0.171623  0.258826  0.022149  0.235886  1.731807 -1.005466 -1.376675   \n",
       "160  1.388414  1.696745  1.556339  1.753645 -0.209505 -0.367515 -1.294906   \n",
       "\n",
       "            7         8         9        10        11        12  Category  \n",
       "0   -0.650569  1.466583  0.282097  0.383333  1.828097  0.982174         1  \n",
       "1   -0.815257 -0.505150 -0.304357  0.429479  1.096928  0.934830         1  \n",
       "2   -0.485881  2.481732  0.300715  0.337186  0.773526  1.360929         1  \n",
       "3   -0.979945  1.251840  1.287448 -0.447308  1.167233  2.292034         1  \n",
       "4    0.255215  0.549044 -0.332284  0.383333  0.436064 -0.059401         2  \n",
       "..        ...       ...       ...       ...       ...       ...       ...  \n",
       "156  0.666936 -0.583238  2.171785 -1.554828 -1.279371 -0.296123         2  \n",
       "157  0.584592 -0.251362  1.054728 -1.185655 -1.490285 -0.012057         2  \n",
       "158  0.584592 -0.368495  2.404505 -1.693268 -1.490285  0.256228         2  \n",
       "159  1.408032 -0.153752  1.985609 -1.647122 -1.405919  0.272009         2  \n",
       "160  1.655064 -0.368495  1.939065 -1.600975 -1.434041 -0.611752         0  \n",
       "\n",
       "[161 rows x 14 columns]"
      ]
     },
     "execution_count": 13,
     "metadata": {},
     "output_type": "execute_result"
    }
   ],
   "source": [
    "df1"
   ]
  },
  {
   "cell_type": "markdown",
   "id": "d3c66d0c",
   "metadata": {},
   "source": [
    "# checking goodness of fit"
   ]
  },
  {
   "cell_type": "code",
   "execution_count": 14,
   "id": "bb0ceb08",
   "metadata": {},
   "outputs": [
    {
     "data": {
      "text/plain": [
       "0.16391782614867562"
      ]
     },
     "execution_count": 14,
     "metadata": {},
     "output_type": "execute_result"
    }
   ],
   "source": [
    "from sklearn.metrics import silhouette_score\n",
    "score = silhouette_score(df1, y_kmeans)\n",
    "\n",
    "score"
   ]
  },
  {
   "cell_type": "code",
   "execution_count": 15,
   "id": "f6f3ac1e",
   "metadata": {},
   "outputs": [
    {
     "data": {
      "text/html": [
       "<div>\n",
       "<style scoped>\n",
       "    .dataframe tbody tr th:only-of-type {\n",
       "        vertical-align: middle;\n",
       "    }\n",
       "\n",
       "    .dataframe tbody tr th {\n",
       "        vertical-align: top;\n",
       "    }\n",
       "\n",
       "    .dataframe thead th {\n",
       "        text-align: right;\n",
       "    }\n",
       "</style>\n",
       "<table border=\"1\" class=\"dataframe\">\n",
       "  <thead>\n",
       "    <tr style=\"text-align: right;\">\n",
       "      <th></th>\n",
       "      <th>0</th>\n",
       "      <th>1</th>\n",
       "      <th>2</th>\n",
       "      <th>3</th>\n",
       "      <th>4</th>\n",
       "      <th>5</th>\n",
       "      <th>6</th>\n",
       "      <th>7</th>\n",
       "      <th>8</th>\n",
       "      <th>9</th>\n",
       "      <th>10</th>\n",
       "      <th>11</th>\n",
       "      <th>12</th>\n",
       "    </tr>\n",
       "  </thead>\n",
       "  <tbody>\n",
       "    <tr>\n",
       "      <th>0</th>\n",
       "      <td>1.515163</td>\n",
       "      <td>-0.579166</td>\n",
       "      <td>0.270936</td>\n",
       "      <td>-1.248144</td>\n",
       "      <td>2.298023</td>\n",
       "      <td>0.828643</td>\n",
       "      <td>1.055948</td>\n",
       "      <td>-0.650569</td>\n",
       "      <td>1.466583</td>\n",
       "      <td>0.282097</td>\n",
       "      <td>0.383333</td>\n",
       "      <td>1.828097</td>\n",
       "      <td>0.982174</td>\n",
       "    </tr>\n",
       "    <tr>\n",
       "      <th>1</th>\n",
       "      <td>0.209648</td>\n",
       "      <td>-0.512507</td>\n",
       "      <td>-0.931537</td>\n",
       "      <td>-2.732175</td>\n",
       "      <td>0.114047</td>\n",
       "      <td>0.589411</td>\n",
       "      <td>0.749315</td>\n",
       "      <td>-0.815257</td>\n",
       "      <td>-0.505150</td>\n",
       "      <td>-0.304357</td>\n",
       "      <td>0.429479</td>\n",
       "      <td>1.096928</td>\n",
       "      <td>0.934830</td>\n",
       "    </tr>\n",
       "    <tr>\n",
       "      <th>2</th>\n",
       "      <td>0.158948</td>\n",
       "      <td>0.039806</td>\n",
       "      <td>1.266087</td>\n",
       "      <td>-0.236305</td>\n",
       "      <td>0.194935</td>\n",
       "      <td>0.828643</td>\n",
       "      <td>1.239928</td>\n",
       "      <td>-0.485881</td>\n",
       "      <td>2.481732</td>\n",
       "      <td>0.300715</td>\n",
       "      <td>0.337186</td>\n",
       "      <td>0.773526</td>\n",
       "      <td>1.360929</td>\n",
       "    </tr>\n",
       "    <tr>\n",
       "      <th>3</th>\n",
       "      <td>1.692612</td>\n",
       "      <td>-0.350622</td>\n",
       "      <td>0.561189</td>\n",
       "      <td>-0.843409</td>\n",
       "      <td>1.165591</td>\n",
       "      <td>2.503264</td>\n",
       "      <td>1.495455</td>\n",
       "      <td>-0.979945</td>\n",
       "      <td>1.251840</td>\n",
       "      <td>1.287448</td>\n",
       "      <td>-0.447308</td>\n",
       "      <td>1.167233</td>\n",
       "      <td>2.292034</td>\n",
       "    </tr>\n",
       "    <tr>\n",
       "      <th>4</th>\n",
       "      <td>0.260347</td>\n",
       "      <td>0.258826</td>\n",
       "      <td>2.095379</td>\n",
       "      <td>0.573166</td>\n",
       "      <td>1.570031</td>\n",
       "      <td>0.828643</td>\n",
       "      <td>0.677767</td>\n",
       "      <td>0.255215</td>\n",
       "      <td>0.549044</td>\n",
       "      <td>-0.332284</td>\n",
       "      <td>0.383333</td>\n",
       "      <td>0.436064</td>\n",
       "      <td>-0.059401</td>\n",
       "    </tr>\n",
       "  </tbody>\n",
       "</table>\n",
       "</div>"
      ],
      "text/plain": [
       "         0         1         2         3         4         5         6   \\\n",
       "0  1.515163 -0.579166  0.270936 -1.248144  2.298023  0.828643  1.055948   \n",
       "1  0.209648 -0.512507 -0.931537 -2.732175  0.114047  0.589411  0.749315   \n",
       "2  0.158948  0.039806  1.266087 -0.236305  0.194935  0.828643  1.239928   \n",
       "3  1.692612 -0.350622  0.561189 -0.843409  1.165591  2.503264  1.495455   \n",
       "4  0.260347  0.258826  2.095379  0.573166  1.570031  0.828643  0.677767   \n",
       "\n",
       "         7         8         9         10        11        12  \n",
       "0 -0.650569  1.466583  0.282097  0.383333  1.828097  0.982174  \n",
       "1 -0.815257 -0.505150 -0.304357  0.429479  1.096928  0.934830  \n",
       "2 -0.485881  2.481732  0.300715  0.337186  0.773526  1.360929  \n",
       "3 -0.979945  1.251840  1.287448 -0.447308  1.167233  2.292034  \n",
       "4  0.255215  0.549044 -0.332284  0.383333  0.436064 -0.059401  "
      ]
     },
     "execution_count": 15,
     "metadata": {},
     "output_type": "execute_result"
    }
   ],
   "source": [
    "from sklearn.preprocessing import StandardScaler\n",
    "scalar=StandardScaler()\n",
    "df2=scalar.fit_transform(df)\n",
    "df2=pd.DataFrame(df2)\n",
    "df2.head()"
   ]
  },
  {
   "cell_type": "markdown",
   "id": "1d9c034f",
   "metadata": {},
   "source": [
    "# Agglomerative heirarchical clustering"
   ]
  },
  {
   "cell_type": "code",
   "execution_count": 16,
   "id": "6d594620",
   "metadata": {},
   "outputs": [
    {
     "data": {
      "image/png": "[encoded data removed]",
      "text/plain": [
       "<Figure size 1080x576 with 1 Axes>"
      ]
     },
     "metadata": {
      "needs_background": "light"
     },
     "output_type": "display_data"
    }
   ],
   "source": [
    "from scipy.cluster.hierarchy import dendrogram,linkage\n",
    "linked=linkage(df2,method='ward')\n",
    "plt.figure(figsize=(15,8))\n",
    "dendrogram(linked,orientation='top',distance_sort='ascending',show_leaf_counts=True)\n",
    "plt.show()"
   ]
  },
  {
   "cell_type": "code",
   "execution_count": 17,
   "id": "93e105fd",
   "metadata": {},
   "outputs": [],
   "source": [
    "from sklearn.cluster import AgglomerativeClustering\n",
    "hc= AgglomerativeClustering(n_clusters = 3,affinity= 'euclidean',linkage='ward')\n",
    "labels= hc.fit_predict(df2)"
   ]
  },
  {
   "cell_type": "code",
   "execution_count": 18,
   "id": "17e9402d",
   "metadata": {},
   "outputs": [
    {
     "data": {
      "text/plain": [
       "array([2, 2, 2, 2, 2, 2, 2, 2, 2, 2, 2, 2, 2, 2, 2, 2, 2, 2, 2, 2, 2, 2,\n",
       "       2, 2, 2, 2, 2, 2, 2, 2, 2, 2, 2, 2, 2, 2, 2, 2, 2, 2, 2, 2, 2, 2,\n",
       "       2, 2, 2, 2, 2, 2, 2, 2, 2, 2, 2, 2, 2, 1, 1, 0, 0, 0, 2, 0, 0, 1,\n",
       "       1, 2, 0, 0, 0, 0, 1, 0, 0, 0, 0, 1, 0, 0, 0, 0, 0, 0, 0, 0, 0, 0,\n",
       "       0, 1, 0, 0, 0, 0, 0, 0, 0, 0, 0, 0, 0, 0, 0, 0, 0, 0, 0, 0, 0, 1,\n",
       "       0, 0, 0, 0, 0, 0, 0, 0, 1, 1, 1, 1, 1, 1, 1, 1, 1, 1, 1, 1, 1, 1,\n",
       "       1, 1, 1, 1, 1, 1, 1, 1, 1, 1, 1, 1, 1, 1, 1, 1, 1, 1, 1, 1, 1, 1,\n",
       "       1, 1, 1, 1, 1, 1, 1], dtype=int64)"
      ]
     },
     "execution_count": 18,
     "metadata": {},
     "output_type": "execute_result"
    }
   ],
   "source": [
    "labels"
   ]
  },
  {
   "cell_type": "markdown",
   "id": "dccefc4d",
   "metadata": {},
   "source": [
    "# checking goodness of fit"
   ]
  },
  {
   "cell_type": "code",
   "execution_count": 19,
   "id": "c5edb9f7",
   "metadata": {},
   "outputs": [],
   "source": [
    "from sklearn.metrics import silhouette_score\n",
    "score = silhouette_score(df2, labels)"
   ]
  },
  {
   "cell_type": "code",
   "execution_count": 20,
   "id": "7170d0ef",
   "metadata": {},
   "outputs": [
    {
     "data": {
      "text/plain": [
       "0.29574004115878627"
      ]
     },
     "execution_count": 20,
     "metadata": {},
     "output_type": "execute_result"
    }
   ],
   "source": [
    "score"
   ]
  },
  {
   "cell_type": "code",
   "execution_count": null,
   "id": "e0ae0a47",
   "metadata": {},
   "outputs": [],
   "source": []
  }
 ],
 "metadata": {
  "kernelspec": {
   "display_name": "Python 3 (ipykernel)",
   "language": "python",
   "name": "python3"
  },
  "language_info": {
   "codemirror_mode": {
    "name": "ipython",
    "version": 3
   },
   "file_extension": ".py",
   "mimetype": "text/x-python",
   "name": "python",
   "nbconvert_exporter": "python",
   "pygments_lexer": "ipython3",
   "version": "3.9.12"
  }
 },
 "nbformat": 4,
 "nbformat_minor": 5
}
